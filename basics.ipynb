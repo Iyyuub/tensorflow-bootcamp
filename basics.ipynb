{
 "cells": [
  {
   "cell_type": "markdown",
   "metadata": {},
   "source": [
    "# Basics"
   ]
  },
  {
   "cell_type": "code",
   "execution_count": null,
   "metadata": {},
   "outputs": [],
   "source": [
    "import tensorflow as tf\n",
    "import matplotlib.pyplot as plt"
   ]
  },
  {
   "attachments": {},
   "cell_type": "markdown",
   "metadata": {},
   "source": [
    "- tf.Graph represents a collection of tf.Operations\n",
    "- You can create operations by writing out equations.\n",
    "- By default, there is a graph: tf.get_default_graph() and any new operations are added to this graph.\n",
    "- The result of a tf.Operation is a tf.Tensor, which holds the values."
   ]
  },
  {
   "cell_type": "code",
   "execution_count": null,
   "metadata": {},
   "outputs": [],
   "source": [
    "# First a tf.Tensor\n",
    "n_values = 32\n",
    "x = tf.linspace(-3.0, 3.0, n_values)"
   ]
  },
  {
   "cell_type": "code",
   "execution_count": null,
   "metadata": {},
   "outputs": [],
   "source": [
    "# Construct a tf.Session to execute the graph.\n",
    "sess = tf.Session()\n",
    "result = sess.run(x)"
   ]
  },
  {
   "cell_type": "code",
   "execution_count": null,
   "metadata": {},
   "outputs": [],
   "source": [
    "# Alternatively pass a session to the eval fn:\n",
    "x.eval(session=sess)\n",
    "# x.eval() does not work, as it requires a session!"
   ]
  },
  {
   "cell_type": "code",
   "execution_count": null,
   "metadata": {},
   "outputs": [],
   "source": [
    "# We can setup an interactive session if we don't\n",
    "# want to keep passing the session around:\n",
    "sess.close()\n",
    "sess = tf.InteractiveSession()\n"
   ]
  },
  {
   "cell_type": "code",
   "execution_count": null,
   "metadata": {},
   "outputs": [],
   "source": [
    "# Now this will work!\n",
    "x.eval()"
   ]
  },
  {
   "cell_type": "code",
   "execution_count": null,
   "metadata": {},
   "outputs": [],
   "source": [
    "# %% Now a tf.Operation\n",
    "# We'll use our values from [-3, 3] to create a Gaussian Distribution\n",
    "sigma = 1.0\n",
    "mean = 0.0\n",
    "z = (tf.exp(tf.negative(tf.pow(x - mean, 2.0) /\n",
    "                   (2.0 * tf.pow(sigma, 2.0)))) *\n",
    "     (1.0 / (sigma * tf.sqrt(2.0 * 3.1415))))"
   ]
  },
  {
   "cell_type": "code",
   "execution_count": null,
   "metadata": {},
   "outputs": [],
   "source": [
    "\n",
    "# %% By default, new operations are added to the default Graph\n",
    "assert z.graph is tf.get_default_graph()"
   ]
  },
  {
   "cell_type": "code",
   "execution_count": null,
   "metadata": {},
   "outputs": [],
   "source": [
    "# %% Execute the graph and plot the result\n",
    "plt.plot(x.eval(), z.eval())\n",
    "plt.show()"
   ]
  },
  {
   "cell_type": "code",
   "execution_count": null,
   "metadata": {},
   "outputs": [],
   "source": [
    "# %% We can find out the shape of a tensor like so:\n",
    "print(z.get_shape())"
   ]
  }
 ],
 "metadata": {
  "language_info": {
   "name": "python"
  },
  "orig_nbformat": 4
 },
 "nbformat": 4,
 "nbformat_minor": 2
}
